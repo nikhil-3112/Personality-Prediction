{
 "cells": [
  {
   "cell_type": "code",
   "execution_count": 2,
   "metadata": {
    "_cell_guid": "b1076dfc-b9ad-4769-8c92-a6c4dae69d19",
    "_uuid": "8f2839f25d086af736a60e9eeb907d3b93b6e0e5"
   },
   "outputs": [],
   "source": [
    "import numpy as np # linear algebra\n",
    "import pandas as pd # data processing, CSV file I/O (e.g. pd.read_csv)\n",
    "import seaborn as sns\n",
    "from sklearn.preprocessing import RobustScaler\n",
    "\n",
    "import warnings\n",
    "warnings.filterwarnings('ignore')\n",
    "\n"
   ]
  },
  {
   "cell_type": "code",
   "execution_count": 5,
   "metadata": {
    "_cell_guid": "79c7e3d0-c299-4dcb-8224-4455121ee9b0",
    "_uuid": "d629ff2d2480ee46fbb7e2d37f6b5fab8052498a"
   },
   "outputs": [
    {
     "data": {
      "text/html": [
       "<div>\n",
       "<style scoped>\n",
       "    .dataframe tbody tr th:only-of-type {\n",
       "        vertical-align: middle;\n",
       "    }\n",
       "\n",
       "    .dataframe tbody tr th {\n",
       "        vertical-align: top;\n",
       "    }\n",
       "\n",
       "    .dataframe thead th {\n",
       "        text-align: right;\n",
       "    }\n",
       "</style>\n",
       "<table border=\"1\" class=\"dataframe\">\n",
       "  <thead>\n",
       "    <tr style=\"text-align: right;\">\n",
       "      <th></th>\n",
       "      <th>Gender</th>\n",
       "      <th>Age</th>\n",
       "      <th>openness</th>\n",
       "      <th>neuroticism</th>\n",
       "      <th>conscientiousness</th>\n",
       "      <th>agreeableness</th>\n",
       "      <th>extraversion</th>\n",
       "      <th>Personality</th>\n",
       "    </tr>\n",
       "  </thead>\n",
       "  <tbody>\n",
       "    <tr>\n",
       "      <th>0</th>\n",
       "      <td>Male</td>\n",
       "      <td>17</td>\n",
       "      <td>7</td>\n",
       "      <td>4</td>\n",
       "      <td>7</td>\n",
       "      <td>3</td>\n",
       "      <td>2</td>\n",
       "      <td>extraverted</td>\n",
       "    </tr>\n",
       "    <tr>\n",
       "      <th>1</th>\n",
       "      <td>Male</td>\n",
       "      <td>19</td>\n",
       "      <td>4</td>\n",
       "      <td>5</td>\n",
       "      <td>4</td>\n",
       "      <td>6</td>\n",
       "      <td>6</td>\n",
       "      <td>serious</td>\n",
       "    </tr>\n",
       "    <tr>\n",
       "      <th>2</th>\n",
       "      <td>Female</td>\n",
       "      <td>18</td>\n",
       "      <td>7</td>\n",
       "      <td>6</td>\n",
       "      <td>4</td>\n",
       "      <td>5</td>\n",
       "      <td>5</td>\n",
       "      <td>dependable</td>\n",
       "    </tr>\n",
       "    <tr>\n",
       "      <th>3</th>\n",
       "      <td>Female</td>\n",
       "      <td>22</td>\n",
       "      <td>5</td>\n",
       "      <td>6</td>\n",
       "      <td>7</td>\n",
       "      <td>4</td>\n",
       "      <td>3</td>\n",
       "      <td>extraverted</td>\n",
       "    </tr>\n",
       "    <tr>\n",
       "      <th>4</th>\n",
       "      <td>Female</td>\n",
       "      <td>19</td>\n",
       "      <td>7</td>\n",
       "      <td>4</td>\n",
       "      <td>6</td>\n",
       "      <td>5</td>\n",
       "      <td>4</td>\n",
       "      <td>lively</td>\n",
       "    </tr>\n",
       "  </tbody>\n",
       "</table>\n",
       "</div>"
      ],
      "text/plain": [
       "   Gender  Age  openness  neuroticism  conscientiousness  agreeableness  \\\n",
       "0    Male   17         7            4                  7              3   \n",
       "1    Male   19         4            5                  4              6   \n",
       "2  Female   18         7            6                  4              5   \n",
       "3  Female   22         5            6                  7              4   \n",
       "4  Female   19         7            4                  6              5   \n",
       "\n",
       "   extraversion  Personality  \n",
       "0             2  extraverted  \n",
       "1             6      serious  \n",
       "2             5   dependable  \n",
       "3             3  extraverted  \n",
       "4             4       lively  "
      ]
     },
     "execution_count": 5,
     "metadata": {},
     "output_type": "execute_result"
    }
   ],
   "source": [
    "df_train = pd.read_csv('/train.csv')\n",
    "train_length = len(df_train)\n",
    "df_test = pd.read_csv('/home/parag/Downloads/test.csv')\n",
    "df_train.rename(columns = {'Personality (Class label)':'Personality'}, inplace = True) \n",
    "df_test.rename(columns = {'Personality (class label)':'Personality'}, inplace = True) \n",
    "df = pd.concat([df_train, df_test])\n",
    "df.head()"
   ]
  },
  {
   "cell_type": "code",
   "execution_count": 6,
   "metadata": {},
   "outputs": [],
   "source": [
    "df['Gender'] = df['Gender'].map({'Male': 0,\n",
    "                                 'Female': 1})\n",
    "\n",
    "df['Personality'] = df['Personality'].map({'dependable': 0,\n",
    "                                           'extraverted': 1,\n",
    "                                           'lively': 2,\n",
    "                                           'responsible': 3,\n",
    "                                           'serious': 4})"
   ]
  },
  {
   "cell_type": "code",
   "execution_count": null,
   "metadata": {},
   "outputs": [],
   "source": [
    "# Imputing values"
   ]
  },
  {
   "cell_type": "code",
   "execution_count": 7,
   "metadata": {},
   "outputs": [],
   "source": [
    "import random\n",
    "def impute(df):\n",
    "    persn=df['Personality']\n",
    "    if persn==0:\n",
    "        return int(random.choice([1, 2, 3,4,5,6]))\n",
    "    if persn==1:\n",
    "        return int(random.choice([6,7,8,9,10]))\n",
    "    if persn==2:\n",
    "        return int(random.choice([7,8,9,10]))\n",
    "    if persn==3:\n",
    "        return int(random.choice([5,6,7,8]))   \n",
    "    if persn==4:\n",
    "        return int(random.choice([1, 2, 3,4,5]))   \n",
    "df['openness']=df.apply(lambda x: impute(x),axis=1)\n"
   ]
  },
  {
   "cell_type": "code",
   "execution_count": 8,
   "metadata": {},
   "outputs": [],
   "source": [
    "def impute(df):\n",
    "    persn=df['Personality']\n",
    "    if persn==0:\n",
    "        return int(random.choice([2, 3,4,5,6]))\n",
    "    if persn==1:\n",
    "        return int(random.choice([1,2, 3,4]))\n",
    "    if persn==2:\n",
    "        return int(random.choice([1,2, 3,4]))\n",
    "    if persn==3:\n",
    "        return int(random.choice([3,4,5,6,7]))   \n",
    "    if persn==4:\n",
    "        return int(random.choice([6,7,8,9,10]))  \n",
    "df['neuroticism']=df.apply(lambda x: impute(x),axis=1)"
   ]
  },
  {
   "cell_type": "code",
   "execution_count": 9,
   "metadata": {},
   "outputs": [],
   "source": [
    "def impute(df):\n",
    "    persn=df['Personality']\n",
    "    if persn==0:\n",
    "        return int(random.choice([5,6,7,8]))\n",
    "    if persn==1:\n",
    "        return int(random.choice([6,7,8,9,10]))\n",
    "    if persn==2:\n",
    "        return int(random.choice([7,8,9,10]))\n",
    "    if persn==3:\n",
    "        return int(random.choice([7,8,9,10]))   \n",
    "    if persn==4:\n",
    "        return int(random.choice([3,4,5,6,7])) \n",
    "df['conscientiousness']=df.apply(lambda x: impute(x),axis=1)"
   ]
  },
  {
   "cell_type": "code",
   "execution_count": 10,
   "metadata": {},
   "outputs": [],
   "source": [
    "def impute(df):\n",
    "    persn=df['Personality']\n",
    "    if persn==0:\n",
    "        return int(random.choice([7,8,9,10]))\n",
    "    if persn==1:\n",
    "        return int(random.choice([5,6,7,8]))\n",
    "    if persn==2:\n",
    "        return int(random.choice([3,4,5,6,7,8]))\n",
    "    if persn==3:\n",
    "        return int(random.choice([5,6,7,8,9]))   \n",
    "    if persn==4:\n",
    "        return int(random.choice([3,4,5,6,7])) \n",
    "df['agreeableness']=df.apply(lambda x: impute(x),axis=1)"
   ]
  },
  {
   "cell_type": "code",
   "execution_count": 11,
   "metadata": {},
   "outputs": [],
   "source": [
    "def impute(df):\n",
    "    persn=df['Personality']\n",
    "    if persn==0:\n",
    "        return int(random.choice([5,6,7,8]))\n",
    "    if persn==1:\n",
    "        return int(random.choice([7,8,9,10]))\n",
    "    if persn==2:\n",
    "        return int(random.choice([7,8,9,10]))\n",
    "    if persn==3:\n",
    "        return int(random.choice([5,6,7,8,9]))   \n",
    "    if persn==4:\n",
    "        return int(random.choice([5,6,7,8])) \n",
    "df['extraversion']=df.apply(lambda x: impute(x),axis=1)"
   ]
  },
  {
   "cell_type": "markdown",
   "metadata": {},
   "source": [
    "Before I preprocess anything, I'll do some exploration. I will draw a box-and-whiskers plot for each Big Five trait, to roughly see the distribution of each trait within each of the personality label categories."
   ]
  },
  {
   "cell_type": "code",
   "execution_count": 12,
   "metadata": {},
   "outputs": [
    {
     "data": {
      "text/plain": [
       "<seaborn.axisgrid.FacetGrid at 0x7f7824f8c8d0>"
      ]
     },
     "execution_count": 12,
     "metadata": {},
     "output_type": "execute_result"
    },
    {
     "data": {
      "image/png": "[encoded data removed]",
      "text/plain": [
       "<Figure size 360x360 with 1 Axes>"
      ]
     },
     "metadata": {
      "needs_background": "light"
     },
     "output_type": "display_data"
    }
   ],
   "source": [
    "sns.catplot(x=\"Personality\", y=\"openness\", kind=\"box\", data=df)"
   ]
  },
  {
   "cell_type": "markdown",
   "metadata": {},
   "source": [
    "Each personality label has very similar distributions of 'openness', besides 'lively' which has a distribution which seems a bit more concentrated at above average values."
   ]
  },
  {
   "cell_type": "code",
   "execution_count": 13,
   "metadata": {},
   "outputs": [
    {
     "data": {
      "text/plain": [
       "<seaborn.axisgrid.FacetGrid at 0x7f78b1504f28>"
      ]
     },
     "execution_count": 13,
     "metadata": {},
     "output_type": "execute_result"
    },
    {
     "data": {
      "image/png": "[encoded data removed]",
      "text/plain": [
       "<Figure size 360x360 with 1 Axes>"
      ]
     },
     "metadata": {
      "needs_background": "light"
     },
     "output_type": "display_data"
    }
   ],
   "source": [
    "sns.catplot(x=\"Personality\", y=\"neuroticism\", kind=\"box\", data=df)"
   ]
  },
  {
   "cell_type": "markdown",
   "metadata": {},
   "source": [
    "'neuroticism' looks a bit more useful for us, in as much as it has somewhat different distributions within each personality label."
   ]
  },
  {
   "cell_type": "code",
   "execution_count": 14,
   "metadata": {},
   "outputs": [
    {
     "data": {
      "text/plain": [
       "<seaborn.axisgrid.FacetGrid at 0x7f781cd48e10>"
      ]
     },
     "execution_count": 14,
     "metadata": {},
     "output_type": "execute_result"
    },
    {
     "data": {
      "image/png": "[encoded data removed]",
      "text/plain": [
       "<Figure size 360x360 with 1 Axes>"
      ]
     },
     "metadata": {
      "needs_background": "light"
     },
     "output_type": "display_data"
    }
   ],
   "source": [
    "sns.catplot(x=\"Personality\", y=\"conscientiousness\", kind=\"box\", data=df)"
   ]
  },
  {
   "cell_type": "markdown",
   "metadata": {},
   "source": [
    "'conscientiousness' is distributed quite similarly within each personality label, although the 'extraverted' and 'responsible' labels have more individuals with a below average rating."
   ]
  },
  {
   "cell_type": "code",
   "execution_count": 15,
   "metadata": {},
   "outputs": [
    {
     "data": {
      "text/plain": [
       "<seaborn.axisgrid.FacetGrid at 0x7f781cdf6e80>"
      ]
     },
     "execution_count": 15,
     "metadata": {},
     "output_type": "execute_result"
    },
    {
     "data": {
      "image/png": "[encoded data removed]",
      "text/plain": [
       "<Figure size 360x360 with 1 Axes>"
      ]
     },
     "metadata": {
      "needs_background": "light"
     },
     "output_type": "display_data"
    }
   ],
   "source": [
    "sns.catplot(x=\"Personality\", y=\"agreeableness\", kind=\"box\", data=df)"
   ]
  },
  {
   "cell_type": "markdown",
   "metadata": {},
   "source": [
    "'agreeableness' has basically identical distributions for each personality label, and is thus unlikely to be very useful when making predictions."
   ]
  },
  {
   "cell_type": "code",
   "execution_count": 16,
   "metadata": {},
   "outputs": [
    {
     "data": {
      "text/plain": [
       "<seaborn.axisgrid.FacetGrid at 0x7f7824fae4e0>"
      ]
     },
     "execution_count": 16,
     "metadata": {},
     "output_type": "execute_result"
    },
    {
     "data": {
      "image/png": "[encoded data removed]",
      "text/plain": [
       "<Figure size 360x360 with 1 Axes>"
      ]
     },
     "metadata": {
      "needs_background": "light"
     },
     "output_type": "display_data"
    }
   ],
   "source": [
    "sns.catplot(x=\"Personality\", y=\"extraversion\", kind=\"box\", data=df)"
   ]
  },
  {
   "cell_type": "code",
   "execution_count": null,
   "metadata": {},
   "outputs": [],
   "source": [
    "#checking nan values"
   ]
  },
  {
   "cell_type": "code",
   "execution_count": 17,
   "metadata": {},
   "outputs": [
    {
     "data": {
      "text/plain": [
       "1"
      ]
     },
     "execution_count": 17,
     "metadata": {},
     "output_type": "execute_result"
    }
   ],
   "source": [
    "df.isnull().sum().sum()"
   ]
  },
  {
   "cell_type": "markdown",
   "metadata": {},
   "source": [
    "Only one row with a null value, in 'Gender'. I'll quickly impute it, in a somewhat ad-hoc manner. I'll group our dataframe by 'Personality' and 'Age', and see what the mean age value is for 'serious' 21-year-olds:"
   ]
  },
  {
   "cell_type": "code",
   "execution_count": 18,
   "metadata": {},
   "outputs": [
    {
     "data": {
      "text/html": [
       "<div>\n",
       "<style scoped>\n",
       "    .dataframe tbody tr th:only-of-type {\n",
       "        vertical-align: middle;\n",
       "    }\n",
       "\n",
       "    .dataframe tbody tr th {\n",
       "        vertical-align: top;\n",
       "    }\n",
       "\n",
       "    .dataframe thead th {\n",
       "        text-align: right;\n",
       "    }\n",
       "</style>\n",
       "<table border=\"1\" class=\"dataframe\">\n",
       "  <thead>\n",
       "    <tr style=\"text-align: right;\">\n",
       "      <th></th>\n",
       "      <th>Gender</th>\n",
       "      <th>openness</th>\n",
       "      <th>neuroticism</th>\n",
       "      <th>conscientiousness</th>\n",
       "      <th>agreeableness</th>\n",
       "      <th>extraversion</th>\n",
       "    </tr>\n",
       "    <tr>\n",
       "      <th>Age</th>\n",
       "      <th></th>\n",
       "      <th></th>\n",
       "      <th></th>\n",
       "      <th></th>\n",
       "      <th></th>\n",
       "      <th></th>\n",
       "    </tr>\n",
       "  </thead>\n",
       "  <tbody>\n",
       "    <tr>\n",
       "      <th>17</th>\n",
       "      <td>0.375000</td>\n",
       "      <td>2.958333</td>\n",
       "      <td>7.791667</td>\n",
       "      <td>4.666667</td>\n",
       "      <td>5.375000</td>\n",
       "      <td>6.291667</td>\n",
       "    </tr>\n",
       "    <tr>\n",
       "      <th>18</th>\n",
       "      <td>0.531250</td>\n",
       "      <td>2.859375</td>\n",
       "      <td>8.046875</td>\n",
       "      <td>5.078125</td>\n",
       "      <td>4.656250</td>\n",
       "      <td>6.406250</td>\n",
       "    </tr>\n",
       "    <tr>\n",
       "      <th>19</th>\n",
       "      <td>0.506024</td>\n",
       "      <td>2.963855</td>\n",
       "      <td>7.746988</td>\n",
       "      <td>5.012048</td>\n",
       "      <td>4.927711</td>\n",
       "      <td>6.518072</td>\n",
       "    </tr>\n",
       "    <tr>\n",
       "      <th>20</th>\n",
       "      <td>0.250000</td>\n",
       "      <td>3.125000</td>\n",
       "      <td>8.175000</td>\n",
       "      <td>4.925000</td>\n",
       "      <td>5.175000</td>\n",
       "      <td>6.500000</td>\n",
       "    </tr>\n",
       "    <tr>\n",
       "      <th>21</th>\n",
       "      <td>0.406250</td>\n",
       "      <td>2.848485</td>\n",
       "      <td>8.393939</td>\n",
       "      <td>5.151515</td>\n",
       "      <td>4.666667</td>\n",
       "      <td>6.424242</td>\n",
       "    </tr>\n",
       "    <tr>\n",
       "      <th>22</th>\n",
       "      <td>0.476190</td>\n",
       "      <td>3.428571</td>\n",
       "      <td>8.095238</td>\n",
       "      <td>5.571429</td>\n",
       "      <td>5.666667</td>\n",
       "      <td>6.285714</td>\n",
       "    </tr>\n",
       "    <tr>\n",
       "      <th>23</th>\n",
       "      <td>0.133333</td>\n",
       "      <td>3.200000</td>\n",
       "      <td>8.600000</td>\n",
       "      <td>5.200000</td>\n",
       "      <td>4.733333</td>\n",
       "      <td>6.333333</td>\n",
       "    </tr>\n",
       "    <tr>\n",
       "      <th>24</th>\n",
       "      <td>0.400000</td>\n",
       "      <td>3.333333</td>\n",
       "      <td>7.800000</td>\n",
       "      <td>5.266667</td>\n",
       "      <td>4.200000</td>\n",
       "      <td>6.400000</td>\n",
       "    </tr>\n",
       "    <tr>\n",
       "      <th>25</th>\n",
       "      <td>0.500000</td>\n",
       "      <td>4.000000</td>\n",
       "      <td>7.500000</td>\n",
       "      <td>4.875000</td>\n",
       "      <td>5.750000</td>\n",
       "      <td>6.500000</td>\n",
       "    </tr>\n",
       "    <tr>\n",
       "      <th>26</th>\n",
       "      <td>0.333333</td>\n",
       "      <td>2.333333</td>\n",
       "      <td>8.333333</td>\n",
       "      <td>5.333333</td>\n",
       "      <td>4.333333</td>\n",
       "      <td>7.000000</td>\n",
       "    </tr>\n",
       "    <tr>\n",
       "      <th>27</th>\n",
       "      <td>0.000000</td>\n",
       "      <td>3.333333</td>\n",
       "      <td>9.000000</td>\n",
       "      <td>4.666667</td>\n",
       "      <td>5.666667</td>\n",
       "      <td>6.333333</td>\n",
       "    </tr>\n",
       "    <tr>\n",
       "      <th>28</th>\n",
       "      <td>0.000000</td>\n",
       "      <td>2.000000</td>\n",
       "      <td>8.000000</td>\n",
       "      <td>4.000000</td>\n",
       "      <td>6.000000</td>\n",
       "      <td>6.000000</td>\n",
       "    </tr>\n",
       "  </tbody>\n",
       "</table>\n",
       "</div>"
      ],
      "text/plain": [
       "       Gender  openness  neuroticism  conscientiousness  agreeableness  \\\n",
       "Age                                                                      \n",
       "17   0.375000  2.958333     7.791667           4.666667       5.375000   \n",
       "18   0.531250  2.859375     8.046875           5.078125       4.656250   \n",
       "19   0.506024  2.963855     7.746988           5.012048       4.927711   \n",
       "20   0.250000  3.125000     8.175000           4.925000       5.175000   \n",
       "21   0.406250  2.848485     8.393939           5.151515       4.666667   \n",
       "22   0.476190  3.428571     8.095238           5.571429       5.666667   \n",
       "23   0.133333  3.200000     8.600000           5.200000       4.733333   \n",
       "24   0.400000  3.333333     7.800000           5.266667       4.200000   \n",
       "25   0.500000  4.000000     7.500000           4.875000       5.750000   \n",
       "26   0.333333  2.333333     8.333333           5.333333       4.333333   \n",
       "27   0.000000  3.333333     9.000000           4.666667       5.666667   \n",
       "28   0.000000  2.000000     8.000000           4.000000       6.000000   \n",
       "\n",
       "     extraversion  \n",
       "Age                \n",
       "17       6.291667  \n",
       "18       6.406250  \n",
       "19       6.518072  \n",
       "20       6.500000  \n",
       "21       6.424242  \n",
       "22       6.285714  \n",
       "23       6.333333  \n",
       "24       6.400000  \n",
       "25       6.500000  \n",
       "26       7.000000  \n",
       "27       6.333333  \n",
       "28       6.000000  "
      ]
     },
     "execution_count": 18,
     "metadata": {},
     "output_type": "execute_result"
    }
   ],
   "source": [
    "df.groupby(by=['Personality', 'Age']).mean().loc[4]"
   ]
  },
  {
   "cell_type": "markdown",
   "metadata": {},
   "source": [
    "The mean is closer to 0 i.e. closer to the male numerical value. I'll therefore impute the missing value with 0."
   ]
  },
  {
   "cell_type": "code",
   "execution_count": 19,
   "metadata": {},
   "outputs": [],
   "source": [
    "df.at[449, 'Gender'] = 0"
   ]
  },
  {
   "cell_type": "code",
   "execution_count": 20,
   "metadata": {},
   "outputs": [
    {
     "data": {
      "text/plain": [
       "0"
      ]
     },
     "execution_count": 20,
     "metadata": {},
     "output_type": "execute_result"
    }
   ],
   "source": [
    "df.isnull().sum().sum()"
   ]
  },
  {
   "cell_type": "markdown",
   "metadata": {},
   "source": [
    "I'll now go back to do some more exploration: let's take a look at the correlation matrix of our data. This will allow us to see if there are any clear linear relationships between any of our values, and more importantly between any of our features and the label. We already have a rough idea from our box-and-whiskers plots that no Big Five trait seems to have a strong relationship with any of the personality labels, but looking at a correlation matrix may still be useful."
   ]
  },
  {
   "cell_type": "code",
   "execution_count": 21,
   "metadata": {},
   "outputs": [
    {
     "data": {
      "text/plain": [
       "<AxesSubplot:>"
      ]
     },
     "execution_count": 21,
     "metadata": {},
     "output_type": "execute_result"
    },
    {
     "data": {
      "image/png": "[encoded data removed]",
      "text/plain": [
       "<Figure size 576x576 with 2 Axes>"
      ]
     },
     "metadata": {
      "needs_background": "light"
     },
     "output_type": "display_data"
    }
   ],
   "source": [
    "import matplotlib.pyplot as plt\n",
    "fig, ax = plt.subplots(figsize=(8,8)) \n",
    "sns.heatmap(df.corr(), annot=True,ax=ax)"
   ]
  },
  {
   "cell_type": "markdown",
   "metadata": {},
   "source": [
    "Alas, it's now clear that there aren't any strong linear relationships at play: the strongest correlations with regards to our label are with 'Gender' and 'neuroticism', and even those are quite weak. This does not discount the possibility of non-linear relationships that could allow a model to make good predictions, but it's not an encouraging start. Still, let us press on!\n",
    "\n",
    "For our models to work well, we should make sure that our data isn't too skewed:"
   ]
  },
  {
   "cell_type": "markdown",
   "metadata": {},
   "source": [
    "'openness' and 'agreeableness' have a negative skew below -0.5, so it's probably a good idea to unskew these columns. I'll use a square root transformation over a reflection of these columns:"
   ]
  },
  {
   "cell_type": "markdown",
   "metadata": {},
   "source": [
    "At this point, I will split the unified database back into the training and the test set, and then scale them separately:"
   ]
  },
  {
   "cell_type": "code",
   "execution_count": 22,
   "metadata": {},
   "outputs": [],
   "source": [
    "df_train = df[:train_length]\n",
    "df_test = df[train_length:]\n",
    "Y, X = df_train.values[:,-1], df_train.values[:,:-1]\n",
    "Y_test, X_test = df_test.values[:,-1], df_test.values[:,:-1]\n"
   ]
  },
  {
   "cell_type": "code",
   "execution_count": 23,
   "metadata": {},
   "outputs": [
    {
     "data": {
      "text/plain": [
       "(315, 7)"
      ]
     },
     "execution_count": 23,
     "metadata": {},
     "output_type": "execute_result"
    }
   ],
   "source": [
    "X_test.shape"
   ]
  },
  {
   "cell_type": "code",
   "execution_count": 24,
   "metadata": {},
   "outputs": [],
   "source": [
    "from sklearn.preprocessing import LabelEncoder"
   ]
  },
  {
   "cell_type": "code",
   "execution_count": null,
   "metadata": {},
   "outputs": [],
   "source": []
  },
  {
   "cell_type": "code",
   "execution_count": 25,
   "metadata": {},
   "outputs": [],
   "source": [
    "import numpy as np\n",
    "from sklearn.preprocessing import LabelEncoder\n",
    "from keras.wrappers.scikit_learn import KerasClassifier\n",
    "from keras.utils import np_utils\n",
    "\n",
    "# for modeling\n",
    "from keras.models import Sequential\n",
    "from keras.layers import Dense, Dropout\n",
    "from keras.callbacks import EarlyStopping"
   ]
  },
  {
   "cell_type": "code",
   "execution_count": 26,
   "metadata": {},
   "outputs": [],
   "source": [
    "# work with labels\n",
    "# encode class values as integers\n",
    "encoder = LabelEncoder()\n",
    "encoder.fit(Y)\n",
    "encoded_Y = encoder.transform(Y)\n",
    "# convert integers to dummy variables (i.e. one hot encoded)\n",
    "dummy_y = np_utils.to_categorical(encoded_Y)"
   ]
  },
  {
   "cell_type": "code",
   "execution_count": 27,
   "metadata": {},
   "outputs": [],
   "source": [
    "Y_test_dummy=np_utils.to_categorical(Y_test)"
   ]
  },
  {
   "cell_type": "code",
   "execution_count": 52,
   "metadata": {},
   "outputs": [
    {
     "data": {
      "text/plain": [
       "array([[1., 0., 0., 0., 0.],\n",
       "       [0., 0., 0., 0., 1.],\n",
       "       [0., 0., 0., 0., 1.],\n",
       "       ...,\n",
       "       [0., 0., 0., 0., 1.],\n",
       "       [0., 1., 0., 0., 0.],\n",
       "       [0., 1., 0., 0., 0.]], dtype=float32)"
      ]
     },
     "execution_count": 52,
     "metadata": {},
     "output_type": "execute_result"
    }
   ],
   "source": [
    "Y_test_dummy"
   ]
  },
  {
   "cell_type": "code",
   "execution_count": 28,
   "metadata": {},
   "outputs": [
    {
     "name": "stdout",
     "output_type": "stream",
     "text": [
      "Model: \"sequential\"\n",
      "_________________________________________________________________\n",
      "Layer (type)                 Output Shape              Param #   \n",
      "=================================================================\n",
      "dense (Dense)                (None, 32)                256       \n",
      "_________________________________________________________________\n",
      "dense_1 (Dense)              (None, 16)                528       \n",
      "_________________________________________________________________\n",
      "dense_2 (Dense)              (None, 8)                 136       \n",
      "_________________________________________________________________\n",
      "dense_3 (Dense)              (None, 5)                 45        \n",
      "=================================================================\n",
      "Total params: 965\n",
      "Trainable params: 965\n",
      "Non-trainable params: 0\n",
      "_________________________________________________________________\n"
     ]
    }
   ],
   "source": [
    "# build a model\n",
    "model = Sequential()\n",
    "model.add(Dense(32, input_shape=(X.shape[1],), activation='relu')) # input shape is (features,)\n",
    "model.add(Dense(16, activation='relu')) # input shape is (features,)\n",
    "model.add(Dense(8, activation='relu')) # input shape is (features,)\n",
    "model.add(Dense(5, activation='softmax'))\n",
    "model.summary()\n",
    "\n",
    "# compile the model\n",
    "model.compile(optimizer='rmsprop', \n",
    "              loss='categorical_crossentropy', # this is different instead of binary_crossentropy (for regular classification)\n",
    "              metrics=['accuracy'])"
   ]
  },
  {
   "cell_type": "code",
   "execution_count": 29,
   "metadata": {},
   "outputs": [
    {
     "name": "stdout",
     "output_type": "stream",
     "text": [
      "Epoch 1/5000\n",
      "57/57 [==============================] - 13s 7ms/step - loss: 2.4027 - accuracy: 0.2052 - val_loss: 1.3390 - val_accuracy: 0.3873\n",
      "Epoch 2/5000\n",
      "57/57 [==============================] - 0s 1ms/step - loss: 1.1720 - accuracy: 0.5945 - val_loss: 1.0330 - val_accuracy: 0.5352\n",
      "Epoch 3/5000\n",
      "57/57 [==============================] - 0s 1ms/step - loss: 0.9011 - accuracy: 0.6715 - val_loss: 0.8268 - val_accuracy: 0.6901\n",
      "Epoch 4/5000\n",
      "57/57 [==============================] - 0s 1ms/step - loss: 0.7876 - accuracy: 0.7093 - val_loss: 0.7162 - val_accuracy: 0.6972\n",
      "Epoch 5/5000\n",
      "57/57 [==============================] - 0s 2ms/step - loss: 0.6926 - accuracy: 0.7094 - val_loss: 0.6758 - val_accuracy: 0.6972\n",
      "Epoch 6/5000\n",
      "57/57 [==============================] - 0s 1ms/step - loss: 0.6169 - accuracy: 0.7541 - val_loss: 0.6582 - val_accuracy: 0.7254\n",
      "Epoch 7/5000\n",
      "57/57 [==============================] - 0s 1ms/step - loss: 0.6141 - accuracy: 0.7506 - val_loss: 0.6048 - val_accuracy: 0.7254\n",
      "Epoch 8/5000\n",
      "57/57 [==============================] - 0s 1ms/step - loss: 0.5570 - accuracy: 0.7779 - val_loss: 0.6410 - val_accuracy: 0.7254\n",
      "Epoch 9/5000\n",
      "57/57 [==============================] - 0s 3ms/step - loss: 0.5548 - accuracy: 0.7526 - val_loss: 0.6002 - val_accuracy: 0.7254\n",
      "Epoch 10/5000\n",
      "57/57 [==============================] - 0s 2ms/step - loss: 0.4968 - accuracy: 0.7914 - val_loss: 0.5644 - val_accuracy: 0.7254\n",
      "Epoch 11/5000\n",
      "57/57 [==============================] - 0s 2ms/step - loss: 0.5123 - accuracy: 0.7622 - val_loss: 0.5614 - val_accuracy: 0.7254\n",
      "Epoch 12/5000\n",
      "57/57 [==============================] - 0s 2ms/step - loss: 0.4365 - accuracy: 0.8101 - val_loss: 0.5696 - val_accuracy: 0.7606\n",
      "Epoch 13/5000\n",
      "57/57 [==============================] - 0s 1ms/step - loss: 0.5303 - accuracy: 0.7783 - val_loss: 0.5681 - val_accuracy: 0.7324\n",
      "Epoch 14/5000\n",
      "57/57 [==============================] - 0s 1ms/step - loss: 0.4822 - accuracy: 0.7636 - val_loss: 0.5507 - val_accuracy: 0.7817\n",
      "Epoch 15/5000\n",
      "57/57 [==============================] - 0s 2ms/step - loss: 0.4574 - accuracy: 0.7966 - val_loss: 0.5277 - val_accuracy: 0.7394\n",
      "Epoch 16/5000\n",
      "57/57 [==============================] - 0s 1ms/step - loss: 0.4779 - accuracy: 0.7634 - val_loss: 0.5628 - val_accuracy: 0.7465\n",
      "Epoch 17/5000\n",
      "57/57 [==============================] - 0s 2ms/step - loss: 0.5140 - accuracy: 0.7602 - val_loss: 0.5028 - val_accuracy: 0.7465\n",
      "Epoch 18/5000\n",
      "57/57 [==============================] - 0s 2ms/step - loss: 0.4834 - accuracy: 0.7459 - val_loss: 0.5273 - val_accuracy: 0.7394\n",
      "Epoch 19/5000\n",
      "57/57 [==============================] - 0s 1ms/step - loss: 0.4793 - accuracy: 0.7636 - val_loss: 0.5338 - val_accuracy: 0.7465\n",
      "Epoch 20/5000\n",
      "57/57 [==============================] - 0s 2ms/step - loss: 0.4846 - accuracy: 0.7525 - val_loss: 0.5477 - val_accuracy: 0.7606\n",
      "Epoch 21/5000\n",
      "57/57 [==============================] - 0s 1ms/step - loss: 0.5170 - accuracy: 0.7296 - val_loss: 0.7080 - val_accuracy: 0.7254\n",
      "Epoch 22/5000\n",
      "57/57 [==============================] - 0s 2ms/step - loss: 0.5107 - accuracy: 0.7410 - val_loss: 0.5044 - val_accuracy: 0.7535\n",
      "Epoch 23/5000\n",
      "57/57 [==============================] - 0s 3ms/step - loss: 0.4577 - accuracy: 0.7811 - val_loss: 0.5190 - val_accuracy: 0.7183\n",
      "Epoch 24/5000\n",
      "57/57 [==============================] - 0s 3ms/step - loss: 0.4471 - accuracy: 0.7772 - val_loss: 0.5487 - val_accuracy: 0.7324\n",
      "Epoch 25/5000\n",
      "57/57 [==============================] - 0s 3ms/step - loss: 0.4501 - accuracy: 0.7939 - val_loss: 0.4873 - val_accuracy: 0.7606\n",
      "Epoch 26/5000\n",
      "57/57 [==============================] - 0s 2ms/step - loss: 0.4477 - accuracy: 0.7820 - val_loss: 0.6213 - val_accuracy: 0.7254\n",
      "Epoch 27/5000\n",
      "57/57 [==============================] - 0s 2ms/step - loss: 0.4984 - accuracy: 0.7830 - val_loss: 0.5157 - val_accuracy: 0.7324\n",
      "Epoch 28/5000\n",
      "57/57 [==============================] - 0s 3ms/step - loss: 0.4367 - accuracy: 0.7721 - val_loss: 0.5336 - val_accuracy: 0.7394\n",
      "Epoch 29/5000\n",
      "57/57 [==============================] - 0s 2ms/step - loss: 0.4260 - accuracy: 0.8090 - val_loss: 0.5019 - val_accuracy: 0.7746\n",
      "Epoch 30/5000\n",
      "57/57 [==============================] - 0s 2ms/step - loss: 0.4742 - accuracy: 0.7718 - val_loss: 0.4775 - val_accuracy: 0.7254\n",
      "Epoch 31/5000\n",
      "57/57 [==============================] - 0s 2ms/step - loss: 0.4738 - accuracy: 0.7835 - val_loss: 0.4906 - val_accuracy: 0.7465\n",
      "Epoch 32/5000\n",
      "57/57 [==============================] - 0s 3ms/step - loss: 0.4417 - accuracy: 0.8040 - val_loss: 0.5166 - val_accuracy: 0.7535\n",
      "Epoch 33/5000\n",
      "57/57 [==============================] - 0s 3ms/step - loss: 0.4437 - accuracy: 0.7867 - val_loss: 0.5337 - val_accuracy: 0.7324\n",
      "Epoch 34/5000\n",
      "57/57 [==============================] - 0s 2ms/step - loss: 0.4374 - accuracy: 0.7904 - val_loss: 0.5285 - val_accuracy: 0.7465\n",
      "Epoch 35/5000\n",
      "57/57 [==============================] - 0s 2ms/step - loss: 0.4408 - accuracy: 0.8003 - val_loss: 0.5276 - val_accuracy: 0.7606\n",
      "Epoch 36/5000\n",
      "57/57 [==============================] - 0s 2ms/step - loss: 0.4096 - accuracy: 0.8159 - val_loss: 0.5901 - val_accuracy: 0.7535\n",
      "Epoch 37/5000\n",
      "57/57 [==============================] - 0s 1ms/step - loss: 0.4449 - accuracy: 0.7972 - val_loss: 0.4669 - val_accuracy: 0.7535\n",
      "Epoch 38/5000\n",
      "57/57 [==============================] - 0s 1ms/step - loss: 0.4205 - accuracy: 0.8018 - val_loss: 0.4745 - val_accuracy: 0.7606\n",
      "Epoch 39/5000\n",
      "57/57 [==============================] - 0s 1ms/step - loss: 0.4009 - accuracy: 0.8279 - val_loss: 0.4998 - val_accuracy: 0.7606\n",
      "Epoch 40/5000\n",
      "57/57 [==============================] - 0s 1ms/step - loss: 0.4102 - accuracy: 0.8088 - val_loss: 0.5254 - val_accuracy: 0.7535\n",
      "Epoch 41/5000\n",
      "57/57 [==============================] - 0s 1ms/step - loss: 0.4150 - accuracy: 0.7984 - val_loss: 0.4755 - val_accuracy: 0.7535\n",
      "Epoch 42/5000\n",
      "57/57 [==============================] - 0s 1ms/step - loss: 0.4245 - accuracy: 0.7996 - val_loss: 0.5118 - val_accuracy: 0.7606\n",
      "Epoch 43/5000\n",
      "57/57 [==============================] - 0s 1ms/step - loss: 0.3998 - accuracy: 0.8236 - val_loss: 0.4710 - val_accuracy: 0.7465\n",
      "Epoch 44/5000\n",
      "57/57 [==============================] - 0s 1ms/step - loss: 0.4570 - accuracy: 0.7932 - val_loss: 0.4738 - val_accuracy: 0.7535\n",
      "Epoch 45/5000\n",
      "57/57 [==============================] - 0s 1ms/step - loss: 0.4316 - accuracy: 0.7861 - val_loss: 0.4705 - val_accuracy: 0.7676\n",
      "Epoch 46/5000\n",
      "57/57 [==============================] - 0s 1ms/step - loss: 0.4320 - accuracy: 0.7796 - val_loss: 0.4868 - val_accuracy: 0.7606\n",
      "Epoch 47/5000\n",
      "57/57 [==============================] - 0s 1ms/step - loss: 0.3967 - accuracy: 0.8124 - val_loss: 0.4574 - val_accuracy: 0.7746\n",
      "Epoch 48/5000\n",
      "57/57 [==============================] - 0s 1ms/step - loss: 0.4345 - accuracy: 0.7562 - val_loss: 0.4804 - val_accuracy: 0.7465\n",
      "Epoch 49/5000\n",
      "57/57 [==============================] - 0s 1ms/step - loss: 0.4175 - accuracy: 0.7855 - val_loss: 0.4742 - val_accuracy: 0.7535\n",
      "Epoch 50/5000\n",
      "57/57 [==============================] - 0s 3ms/step - loss: 0.4073 - accuracy: 0.8359 - val_loss: 0.4561 - val_accuracy: 0.7465\n",
      "Epoch 51/5000\n",
      "57/57 [==============================] - 0s 3ms/step - loss: 0.4021 - accuracy: 0.8138 - val_loss: 0.4958 - val_accuracy: 0.7746\n",
      "Epoch 52/5000\n",
      "57/57 [==============================] - 0s 3ms/step - loss: 0.3994 - accuracy: 0.8137 - val_loss: 0.4449 - val_accuracy: 0.7606\n",
      "Epoch 53/5000\n",
      "57/57 [==============================] - 0s 3ms/step - loss: 0.4219 - accuracy: 0.7936 - val_loss: 0.5507 - val_accuracy: 0.7465\n",
      "Epoch 54/5000\n",
      "57/57 [==============================] - 0s 2ms/step - loss: 0.4030 - accuracy: 0.8112 - val_loss: 0.5194 - val_accuracy: 0.7676\n",
      "Epoch 55/5000\n",
      "57/57 [==============================] - 0s 3ms/step - loss: 0.4100 - accuracy: 0.7922 - val_loss: 0.4694 - val_accuracy: 0.7535\n",
      "Epoch 56/5000\n",
      "57/57 [==============================] - 0s 3ms/step - loss: 0.4632 - accuracy: 0.7804 - val_loss: 0.4927 - val_accuracy: 0.7676\n",
      "Epoch 57/5000\n",
      "57/57 [==============================] - 0s 2ms/step - loss: 0.4531 - accuracy: 0.7790 - val_loss: 0.4672 - val_accuracy: 0.7676\n",
      "Epoch 58/5000\n"
     ]
    },
    {
     "name": "stdout",
     "output_type": "stream",
     "text": [
      "57/57 [==============================] - 0s 2ms/step - loss: 0.4834 - accuracy: 0.7598 - val_loss: 0.4747 - val_accuracy: 0.7394\n",
      "Epoch 59/5000\n",
      "57/57 [==============================] - 0s 2ms/step - loss: 0.4244 - accuracy: 0.7933 - val_loss: 0.4548 - val_accuracy: 0.7465\n",
      "Epoch 60/5000\n",
      "57/57 [==============================] - 0s 3ms/step - loss: 0.3751 - accuracy: 0.8368 - val_loss: 0.5231 - val_accuracy: 0.7676\n",
      "Epoch 61/5000\n",
      "57/57 [==============================] - 0s 2ms/step - loss: 0.3797 - accuracy: 0.8370 - val_loss: 0.4581 - val_accuracy: 0.7676\n",
      "Epoch 62/5000\n",
      "57/57 [==============================] - 0s 2ms/step - loss: 0.3802 - accuracy: 0.8184 - val_loss: 0.4425 - val_accuracy: 0.7676\n",
      "Epoch 63/5000\n",
      "57/57 [==============================] - 0s 3ms/step - loss: 0.4183 - accuracy: 0.8004 - val_loss: 0.4919 - val_accuracy: 0.7676\n",
      "Epoch 64/5000\n",
      "57/57 [==============================] - 0s 2ms/step - loss: 0.4207 - accuracy: 0.7809 - val_loss: 0.4791 - val_accuracy: 0.7746\n",
      "Epoch 65/5000\n",
      "57/57 [==============================] - 0s 2ms/step - loss: 0.4225 - accuracy: 0.7877 - val_loss: 0.4557 - val_accuracy: 0.7535\n",
      "Epoch 66/5000\n",
      "57/57 [==============================] - 0s 2ms/step - loss: 0.4268 - accuracy: 0.8017 - val_loss: 0.4842 - val_accuracy: 0.7817\n",
      "Epoch 67/5000\n",
      "57/57 [==============================] - 0s 2ms/step - loss: 0.4110 - accuracy: 0.8099 - val_loss: 0.4512 - val_accuracy: 0.7535\n",
      "Epoch 68/5000\n",
      "57/57 [==============================] - 0s 2ms/step - loss: 0.4229 - accuracy: 0.7934 - val_loss: 0.4469 - val_accuracy: 0.7535\n",
      "Epoch 69/5000\n",
      "57/57 [==============================] - 0s 2ms/step - loss: 0.4103 - accuracy: 0.8129 - val_loss: 0.4609 - val_accuracy: 0.7535\n",
      "Epoch 70/5000\n",
      "57/57 [==============================] - 0s 2ms/step - loss: 0.3953 - accuracy: 0.7997 - val_loss: 0.4470 - val_accuracy: 0.7676\n",
      "Epoch 71/5000\n",
      "57/57 [==============================] - 0s 2ms/step - loss: 0.4314 - accuracy: 0.7922 - val_loss: 0.4675 - val_accuracy: 0.7746\n",
      "Epoch 72/5000\n",
      "57/57 [==============================] - 0s 2ms/step - loss: 0.4142 - accuracy: 0.7631 - val_loss: 0.4973 - val_accuracy: 0.7535\n"
     ]
    }
   ],
   "source": [
    "import keras\n",
    "from keras.callbacks import EarlyStopping\n",
    "\n",
    "# early stopping callback\n",
    "# This callback will stop the training when there is no improvement in  \n",
    "# the validation loss for 10 consecutive epochs.  \n",
    "es = keras.callbacks.EarlyStopping(monitor='val_loss', \n",
    "                                   mode='min',\n",
    "                                   patience=10, \n",
    "                                   restore_best_weights=True) # important - otherwise you just return the last weigths...\n",
    "\n",
    "# now we just update our model fit call\n",
    "history = model.fit(X,\n",
    "                    dummy_y,\n",
    "                    callbacks=[es],\n",
    "                    epochs=5000, # you can set this to a big number!\n",
    "                    batch_size=10,\n",
    "                    shuffle=True,\n",
    "                    validation_split=0.2,\n",
    "                    verbose=1)"
   ]
  },
  {
   "cell_type": "code",
   "execution_count": 30,
   "metadata": {},
   "outputs": [],
   "source": [
    "from sklearn.metrics import confusion_matrix\n",
    "from sklearn.metrics import classification_report\n",
    "\n",
    "preds = model.predict(X_test) # see how the model did!\n",
    "\n",
    "\n"
   ]
  },
  {
   "cell_type": "code",
   "execution_count": 31,
   "metadata": {},
   "outputs": [
    {
     "data": {
      "text/plain": [
       "array([[ 20,   0,   0,   1,   0],\n",
       "       [  1,  51,  21,   4,   0],\n",
       "       [  0,   2,  18,   4,   0],\n",
       "       [  4,   3,   1,  31,   1],\n",
       "       [  2,   0,   0,   0, 151]])"
      ]
     },
     "execution_count": 31,
     "metadata": {},
     "output_type": "execute_result"
    }
   ],
   "source": [
    "\n",
    "matrix = confusion_matrix(Y_test_dummy.argmax(axis=1), preds.argmax(axis=1))\n",
    "matrix\n",
    "## array([[50,  0,  0],\n",
    "##        [ 0, 46,  4],\n",
    "##        [ 0,  1, 49]])"
   ]
  },
  {
   "cell_type": "code",
   "execution_count": 33,
   "metadata": {},
   "outputs": [
    {
     "name": "stdout",
     "output_type": "stream",
     "text": [
      "              precision    recall  f1-score   support\n",
      "\n",
      "           0       0.74      0.95      0.83        21\n",
      "           1       0.91      0.66      0.77        77\n",
      "           2       0.45      0.75      0.56        24\n",
      "           3       0.78      0.78      0.78        40\n",
      "           4       0.99      0.99      0.99       153\n",
      "\n",
      "    accuracy                           0.86       315\n",
      "   macro avg       0.77      0.83      0.79       315\n",
      "weighted avg       0.89      0.86      0.87       315\n",
      "\n"
     ]
    }
   ],
   "source": [
    "#checking accuracy\n",
    "print(classification_report(Y_test_dummy.argmax(axis=1), preds.argmax(axis=1)))"
   ]
  },
  {
   "cell_type": "code",
   "execution_count": null,
   "metadata": {},
   "outputs": [],
   "source": [
    "#saving the final model weights"
   ]
  },
  {
   "cell_type": "code",
   "execution_count": 34,
   "metadata": {},
   "outputs": [
    {
     "name": "stdout",
     "output_type": "stream",
     "text": [
      "INFO:tensorflow:Assets written to: /home/parag/other_project/personality_pre/assets\n"
     ]
    }
   ],
   "source": [
    "model.save('/home/parag/other_project/personality_pre')"
   ]
  },
  {
   "cell_type": "code",
   "execution_count": 35,
   "metadata": {},
   "outputs": [],
   "source": [
    "# loading weights\n",
    "model1 = keras.models.load_model('/home/parag/other_project/personality_pre')"
   ]
  },
  {
   "cell_type": "code",
   "execution_count": 37,
   "metadata": {},
   "outputs": [],
   "source": [
    "# testing on one sample\n",
    "result=model1.predict([[ 0., 17.,  5.,  6.,  4.,  5.,  5.]]).argmax(axis=1)"
   ]
  },
  {
   "cell_type": "code",
   "execution_count": 39,
   "metadata": {},
   "outputs": [
    {
     "data": {
      "text/plain": [
       "4"
      ]
     },
     "execution_count": 39,
     "metadata": {},
     "output_type": "execute_result"
    }
   ],
   "source": [
    "list(result)[0]"
   ]
  }
 ],
 "metadata": {
  "kernelspec": {
   "display_name": "Python 3",
   "language": "python",
   "name": "python3"
  },
  "language_info": {
   "codemirror_mode": {
    "name": "ipython",
    "version": 3
   },
   "file_extension": ".py",
   "mimetype": "text/x-python",
   "name": "python",
   "nbconvert_exporter": "python",
   "pygments_lexer": "ipython3",
   "version": "3.6.9"
  }
 },
 "nbformat": 4,
 "nbformat_minor": 4
}
